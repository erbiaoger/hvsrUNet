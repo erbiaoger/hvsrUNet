{
 "cells": [
  {
   "cell_type": "code",
   "execution_count": null,
   "metadata": {},
   "outputs": [],
   "source": [
    "df = pd.DataFrame(columns=[],index=[],data=[])\n",
    "\n",
    "depth_end = 200\n",
    "\n",
    "index = 0\n",
    "for vs1 in range(80, 121, 10):\n",
    "    for vs2 in range(120, 161, 20):\n",
    "        for h1 in range(20, 51, 10):\n",
    "            for h2 in range(40, 81, 10):\n",
    "                a = {\n",
    "                    'layer':\n",
    "                        {'1': '1',\n",
    "                        '2': '2',\n",
    "                        'end': 'end'},\n",
    "                    'thickness': \n",
    "                        {'1': h1,\n",
    "                        '2': h2,\n",
    "                        'end': depth_end-h1-h2},\n",
    "                    'Vs':\n",
    "                        {'1': vs1,\n",
    "                        '2': vs2,\n",
    "                        'end': 200}\n",
    "                    }\n",
    "                df1 = pd.DataFrame(a)\n",
    "                df = pd.concat([df, df1])\n",
    "                index += 1\n",
    "                "
   ]
  },
  {
   "cell_type": "code",
   "execution_count": null,
   "metadata": {},
   "outputs": [],
   "source": [
    "sns.set(style=\"darkgrid\", color_codes=True)\n",
    "sns.jointplot(x=\"thickness\", y=\"Vs\", hue=\"layer\", data=df)"
   ]
  },
  {
   "cell_type": "code",
   "execution_count": null,
   "metadata": {},
   "outputs": [],
   "source": [
    "sns.pairplot(df, hue=\"layer\")"
   ]
  },
  {
   "cell_type": "code",
   "execution_count": null,
   "metadata": {},
   "outputs": [],
   "source": [
    "df = pd.DataFrame(columns=[],index=[],data=[])\n",
    "\n",
    "depth_end = 200\n",
    "\n",
    "index = 0\n",
    "for vs1 in range(80, 121, 10):\n",
    "    for vs2 in range(120, 161, 20):\n",
    "        for h1 in range(20, 51, 10):\n",
    "            for h2 in range(40, 81, 10):\n",
    "                a = {\n",
    "                    'index':\n",
    "                        {'1': index,\n",
    "                         '2': index,\n",
    "                         'end': index},\n",
    "                    'layer':\n",
    "                        {'1': '1',\n",
    "                        '2': '2',\n",
    "                        'end': 'end'},\n",
    "                    'thickness': \n",
    "                        {'1': h1,\n",
    "                        '2': h2,\n",
    "                        'end': depth_end-h1-h2},\n",
    "                    'Vs':\n",
    "                        {'1': vs1,\n",
    "                        '2': vs2,\n",
    "                        'end': 200}\n",
    "                    }\n",
    "                df1 = pd.DataFrame(a)\n",
    "                df = pd.concat([df, df1])\n",
    "                index += 1\n",
    "                "
   ]
  },
  {
   "cell_type": "code",
   "execution_count": null,
   "metadata": {},
   "outputs": [],
   "source": [
    "# idxmin_thickness = df['thickness'].idxmin()\n",
    "# idxmax_thickness = df['thickness'].idxmax()\n",
    "\n",
    "layer1 = df.loc['1']\n",
    "layer2 = df.loc['2']\n",
    "layer_end = df.loc['end']\n",
    "\n",
    "layer1_Vs_min = layer1['Vs'].idxmax()\n",
    "layer1_Vs_max = layer1['Vs'].idxmin()\n",
    "layer2_Vs_min = layer2['Vs'].idxmax()\n",
    "layer2_Vs_max = layer2['Vs'].idxmin()\n",
    "layer_end_Vs_min = layer_end['Vs'].idxmax()\n",
    "layer_end_Vs_max = layer_end['Vs'].idxmin()\n",
    "\n",
    "\n",
    "Vs_min = df['Vs'][df['index'] == 0]\n",
    "H_min = df['thickness'][df['index'] == 0]\n",
    "\n",
    "Vs_max = df['Vs'][df['index'] == 299]\n",
    "H_max = df['thickness'][df['index'] == 299]\n",
    "\n",
    "dict1 = {0: '1',\n",
    "         1: '2',\n",
    "         2: 'end'}\n",
    "\n",
    "H_min_VVs_min = []\n",
    "for i, h in enumerate(H_min):\n",
    "    H_min_VVs_min.extend(list(Vs_min[dict1[i]]*np.ones(h)))\n",
    "\n",
    "H_min_VVs_max = []\n",
    "for i, h in enumerate(H_min):\n",
    "    H_min_VVs_max.extend(list(Vs_max[dict1[i]]*np.ones(h)))\n",
    "\n",
    "H_max_VVs_min = []\n",
    "for i, h in enumerate(H_max):\n",
    "    H_max_VVs_min.extend(list(Vs_min[dict1[i]]*np.ones(h)))\n",
    "\n",
    "H_max_VVs_max = []\n",
    "for i, h in enumerate(H_max):\n",
    "    H_max_VVs_max.extend(list(Vs_max[dict1[i]]*np.ones(h)))"
   ]
  },
  {
   "cell_type": "code",
   "execution_count": null,
   "metadata": {},
   "outputs": [],
   "source": [
    "with plt.style.context('ggplot'):\n",
    "    fig = plt.figure(figsize=(6, 4))\n",
    "    # plt.plot(H_min_VVs_min, color='black')\n",
    "    # plt.plot(H_min_VVs_max, color='red')\n",
    "    # plt.plot(H_max_VVs_min, color='green')\n",
    "    # plt.plot(H_max_VVs_max, color='blue')\n",
    "    y = np.arange(0, 200)\n",
    "    x1 = np.array(H_min_VVs_min)\n",
    "    x2 = np.array(H_min_VVs_max)\n",
    "    x3 = np.array(H_max_VVs_min)\n",
    "    x4 = np.array(H_max_VVs_max)\n",
    "    plt.fill_between(y, x1, x2, alpha=0.8, color='g')\n",
    "    plt.fill_between(y, x3, x4, alpha=0.8, color='g')\n",
    "    plt.fill_between(y, x1, x3, alpha=0.8, color='g')\n",
    "    plt.fill_between(y, x2, x4, alpha=0.8, color='g')\n",
    "    plt.xlabel('Depth (m)')\n",
    "    plt.ylabel('Vs (m/s)')\n",
    "    # plt.xlim(0, 140)"
   ]
  },
  {
   "cell_type": "code",
   "execution_count": null,
   "metadata": {},
   "outputs": [],
   "source": []
  },
  {
   "cell_type": "code",
   "execution_count": null,
   "metadata": {},
   "outputs": [],
   "source": [
    "sns.set(context='notebook',style=\"darkgrid\", color_codes=True)\n",
    "# sns.jointplot(x=\"thickness\", y=\"Vs\", hue=\"layer\", data=df)\n",
    "sns.pairplot(df, hue=\"layer\")           # [['Vs', 'tickness', 'layer']]"
   ]
  },
  {
   "cell_type": "code",
   "execution_count": null,
   "metadata": {},
   "outputs": [],
   "source": []
  },
  {
   "cell_type": "code",
   "execution_count": null,
   "metadata": {},
   "outputs": [],
   "source": [
    "with plt.style.context('../tm.mplstyle'):\n",
    "    plt.figure(figsize=(2, 6))\n",
    "    ax = plt.subplot(111)\n",
    "    ax.plot(vs1, hzcum, color='black')\n",
    "    ax.invert_yaxis()\n",
    "    ax.axis('off')  # 这将关闭坐标轴显示\n",
    "    plt.savefig('model.png', dpi=300, bbox_inches='tight', pad_inches=0)\n"
   ]
  },
  {
   "cell_type": "code",
   "execution_count": null,
   "metadata": {},
   "outputs": [],
   "source": [
    "with plt.style.context('../tm.mplstyle'):\n",
    "    plt.figure(figsize=(6, 2))\n",
    "    plt.plot(fks, cv, color='black')\n",
    "    plt.axis('off')  # 这将关闭坐标轴显示\n",
    "    plt.savefig('disp.png', dpi=300, bbox_inches='tight', pad_inches=0)\n"
   ]
  },
  {
   "cell_type": "code",
   "execution_count": null,
   "metadata": {},
   "outputs": [],
   "source": []
  }
 ],
 "metadata": {
  "language_info": {
   "name": "python"
  }
 },
 "nbformat": 4,
 "nbformat_minor": 2
}
