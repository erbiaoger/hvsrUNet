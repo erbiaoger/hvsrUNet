{
 "cells": [
  {
   "cell_type": "code",
   "execution_count": 1,
   "metadata": {},
   "outputs": [],
   "source": [
    "import torch\n",
    "import torch.nn as nn\n",
    "\n",
    "from hvsrUNet.module.model import UNet\n",
    "from hvsrUNet.module.trainer import train\n",
    "from hvsrUNet.module.dataset import MkData\n",
    "from hvsrUNet.toolbox.plot import plotTest, plotLoss\n"
   ]
  },
  {
   "cell_type": "code",
   "execution_count": 7,
   "metadata": {},
   "outputs": [
    {
     "data": {
      "text/plain": [
       "1000"
      ]
     },
     "execution_count": 7,
     "metadata": {},
     "output_type": "execute_result"
    }
   ],
   "source": [
    "import glob\n",
    "import os\n",
    "import json\n",
    "\n",
    "path = '../../inSightDataProcess/examples/data_ellip/'\n",
    "files = os.listdir(path)\n",
    "for file in files:\n",
    "    with open(path+file,'r') as f:\n",
    "        data = json.load(f)\n"
   ]
  },
  {
   "cell_type": "code",
   "execution_count": 8,
   "metadata": {},
   "outputs": [
    {
     "data": {
      "text/plain": [
       "1000"
      ]
     },
     "execution_count": 8,
     "metadata": {},
     "output_type": "execute_result"
    }
   ],
   "source": [
    "len(data['cpr'])"
   ]
  },
  {
   "cell_type": "code",
   "execution_count": 43,
   "metadata": {},
   "outputs": [],
   "source": [
    "\n",
    "import numpy as np\n",
    "from disba import PhaseDispersion           #计算相速度频散\n",
    "#from disba import GroupDispersion          #计算群速度频散\n",
    "from disba._helpers import resample \n",
    "import matplotlib\n",
    "from matplotlib import pyplot as plt\n",
    "import json\n",
    "\n",
    "\n",
    "\n",
    "sampleNum = 1000\n",
    "num_h1 = 3\n",
    "num_h2 = 3\n",
    "depth_end = 0.2 # km\n",
    "dx = depth_end / sampleNum\n",
    "radius = 120\n",
    "h1_range = np.linspace(0.1, 0.4, 3)\n",
    "h2_range = np.linspace(0.1, 0.4, 3)\n",
    "vs1_range = np.linspace(0.5, 0.6, 4)\n",
    "vs2_range = np.linspace(0.8, 1.0, 4)\n",
    "vs3_range = np.linspace(0.6, 0.7, 4)\n",
    "\n",
    "cpr = np.zeros((len(h1_range), len(h2_range), len(vs1_range), len(vs2_range), len(vs3_range), sampleNum))\n",
    "freq = np.zeros((len(h1_range), len(h2_range), len(vs1_range), len(vs2_range), len(vs3_range), sampleNum))\n",
    "\n",
    "\n",
    "\n",
    "for i1, h1 in enumerate(h1_range):\n",
    "    for i2, h2 in enumerate(h2_range):\n",
    "        for j1, vs1 in enumerate(vs1_range):\n",
    "            for j2, vs2 in enumerate(vs2_range):\n",
    "                for j3, vs3 in enumerate(vs3_range):\n",
    "                    h3 = depth_end - h1 - h2\n",
    "                    velocity_model = np.array([\n",
    "                        [h1, 2*vs1, vs1, 2.00],\n",
    "                        [h2, 2*vs2, vs2, 2.00],\n",
    "                        [depth_end, 2*vs3, vs3, 2.00]\n",
    "                    ])\n",
    "\n",
    "                    ## 0.read velocity model读取速度模型\n",
    "                    velocity_model_thickness=velocity_model.T[0]\n",
    "\n",
    "                    ## 0.1.对原始速度模型进行重采样\n",
    "                    dz = 0.01\n",
    "                    velocity_model = resample(velocity_model_thickness.T, velocity_model, dz)\n",
    "                    velocity_model = np.array(velocity_model[1])\n",
    "                    velocity_model.T[0] = dz\n",
    "\n",
    "\n",
    "                    # Periods must be sorted starting with low periods\n",
    "                    t = np.logspace(0.01, 1.2, sampleNum)          #创建等比数列(周期)\n",
    "\n",
    "                    # Compute the 3 first Rayleigh- and Love- wave modal dispersion curves 计R/L频散曲线\n",
    "                    # Fundamental mode corresponds to mode 0(基阶mode=0)\n",
    "                    pd = PhaseDispersion(*velocity_model.T)\n",
    "                    #pd = GroupDispersion(*velocity_model.T)\n",
    "                    a = pd(t, mode=0, wave=\"rayleigh\")\n",
    "                    # a.shape: ((1000,), (1000,), 0, 'rayleigh', 'phase')\n",
    "                    cpr[i1][i2][j1][j2][j3] = a[1]\n",
    "                    freq[i1][i2][j1][j2][j3] = 1/a[0]       #周期转换为频率\n",
    "\n",
    "    #                 break\n",
    "    #             break\n",
    "    #         break\n",
    "    #     break\n",
    "    # break\n"
   ]
  },
  {
   "cell_type": "code",
   "execution_count": 55,
   "metadata": {},
   "outputs": [
    {
     "data": {
      "text/plain": [
       "[<matplotlib.lines.Line2D at 0x7f021b5c9340>]"
      ]
     },
     "execution_count": 55,
     "metadata": {},
     "output_type": "execute_result"
    },
    {
     "data": {
      "image/png": "[encoded data removed]",
      "text/plain": [
       "<Figure size 640x480 with 1 Axes>"
      ]
     },
     "metadata": {},
     "output_type": "display_data"
    }
   ],
   "source": [
    "A = np.abs(np.fft.fft(a[1]))\n",
    "Freq = np.abs(np.fft.fftfreq(len(A), d=a[0][1]-a[0][0]))\n",
    "\n",
    "\n",
    "#plt.plot(Freq, A, color='orange', label='phase')\n",
    "plt.plot(a[0], a[1], color='blue', label='phase')"
   ]
  },
  {
   "cell_type": "code",
   "execution_count": 1,
   "metadata": {},
   "outputs": [],
   "source": [
    "from torch.utils.data import Dataset\n",
    "from PIL import Image\n",
    "\n",
    "class DpDataset(Dataset):\n",
    "    def __init__(self, dataset, labels):\n",
    "        self.dataset = dataset\n",
    "        self.labels = labels\n",
    "        \n",
    "    def __len__(self):\n",
    "        return len(self.dataset)\n",
    "    \n",
    "    def __getitem__(self, index):\n",
    "        # 根据索引获取一张图像和对应的标签\n",
    "        dataset = self.dataset[index]\n",
    "        label = self.labels[index]\n",
    "        \n",
    "        # # 加载图像并转换为 PyTorch 张量\n",
    "        # image = Image.open(image_path).convert('RGB')\n",
    "        # image = transforms.ToTensor()(image)\n",
    "        \n",
    "        return dataset, label\n"
   ]
  }
 ],
 "metadata": {
  "kernelspec": {
   "display_name": "base",
   "language": "python",
   "name": "python3"
  },
  "language_info": {
   "codemirror_mode": {
    "name": "ipython",
    "version": 3
   },
   "file_extension": ".py",
   "mimetype": "text/x-python",
   "name": "python",
   "nbconvert_exporter": "python",
   "pygments_lexer": "ipython3",
   "version": "3.8.12"
  },
  "orig_nbformat": 4
 },
 "nbformat": 4,
 "nbformat_minor": 2
}
