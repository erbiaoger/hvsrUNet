{
 "cells": [
  {
   "cell_type": "code",
   "execution_count": 1,
   "metadata": {},
   "outputs": [],
   "source": [
    "import os\n",
    "\n",
    "import torch\n",
    "import torch.nn as nn\n",
    "\n",
    "from hvsrUNet.module.model import UNet\n",
    "from hvsrUNet.module.trainer import train\n",
    "from hvsrUNet.module.dataset import MkData\n",
    "from hvsrUNet.toolbox.plot import plotTest, plotLoss, plotHVSR, plotModel\n",
    "from hvsrUNet.toolbox.hvsrIO import saveModel, loadModel"
   ]
  },
  {
   "cell_type": "code",
   "execution_count": 2,
   "metadata": {},
   "outputs": [],
   "source": [
    "mkdata = MkData()\n",
    "X_train, X_test, y_train, y_test = mkdata(sampleNum=512,\n",
    "                                            layerNum=3, \n",
    "                                            num_h1=20, \n",
    "                                            num_h2=20, \n",
    "                                            depth_end=200., \n",
    "                                            freqs_end=50)"
   ]
  },
  {
   "cell_type": "code",
   "execution_count": 7,
   "metadata": {},
   "outputs": [],
   "source": [
    "import numpy as np\n",
    "\n",
    "np.savez('dataset.npz', X_train=X_train.numpy(), X_test=X_test.numpy(), y_train=y_train.numpy(), y_test=y_test.numpy())"
   ]
  },
  {
   "cell_type": "code",
   "execution_count": null,
   "metadata": {},
   "outputs": [],
   "source": [
    "mkdata = MkData()\n",
    "dataset = mkdata(sampleNum=1000, \n",
    "                 layerNum=3, \n",
    "                 num_h1=20, \n",
    "                 num_h2=20,\n",
    "                 dx=4.8, \n",
    "                 depth_end=200., \n",
    "                 freqs_end=10)\n",
    "#train_iter, test_iter = dataset\n",
    "\n",
    "# # define model\n",
    "# model = UNet(1, 1)\n",
    "\n",
    "\n",
    "# # 定义损失函数和优化器\n",
    "# criterion = nn.MSELoss()\n",
    "# optimizer = torch.optim.SGD(model.parameters(), lr=0.001)"
   ]
  },
  {
   "cell_type": "code",
   "execution_count": null,
   "metadata": {},
   "outputs": [],
   "source": [
    "import numpy as np\n",
    "import matplotlib.pyplot as plt\n",
    "\n",
    "X, y = next(iter(train_iter))\n",
    "\n",
    "print(X.shape)\n",
    "plt.plot(X[0, 0, 0, :].numpy().T)"
   ]
  },
  {
   "cell_type": "code",
   "execution_count": null,
   "metadata": {},
   "outputs": [],
   "source": [
    "plt.plot(y[0, 0, 0, :])"
   ]
  },
  {
   "cell_type": "code",
   "execution_count": null,
   "metadata": {},
   "outputs": [],
   "source": [
    "optimizer = torch.optim.SGD(model.parameters(),lr=0.1)\n",
    "#lr_schedule = torch.optim.lr_scheduler.MultiStepLR(optimizer,milestones=[10,20,30,40,50],gamma=0.1)\n",
    "start_epoch = 9\n",
    "# print(schedule)\n",
    "RESUME = False\n",
    "\n",
    "if RESUME:\n",
    "    path_checkpoint = \"./model_parameter/test/ckpt_best_50.pth\"  # 断点路径\n",
    "    checkpoint = torch.load(path_checkpoint)  # 加载断点\n",
    "\n",
    "    model.load_state_dict(checkpoint['net'])  # 加载模型可学习参数\n",
    "\n",
    "    optimizer.load_state_dict(checkpoint['optimizer'])  # 加载优化器参数\n",
    "    start_epoch = checkpoint['epoch']  # 设置开始的epoch\n",
    "\n",
    "for epoch in range(start_epoch+1,11):\n",
    "    for i, (images, labels) in enumerate(train_iter):\n",
    "        # 前向传播\n",
    "        outputs = model(images)\n",
    "        loss = criterion(outputs, labels)\n",
    "        \n",
    "        # 反向传播和优化\n",
    "        optimizer.zero_grad()\n",
    "        loss.backward()\n",
    "        optimizer.step()\n",
    "\n",
    "\n",
    "    if epoch %10 ==0:\n",
    "        print('epoch:',epoch)\n",
    "        checkpoint = {\n",
    "            \"net\": model.state_dict(),\n",
    "            'optimizer': optimizer.state_dict(),\n",
    "            \"epoch\": epoch\n",
    "        }\n",
    "        if not os.path.isdir(\"./model_parameter/test\"):\n",
    "            os.mkdir(\"model_parameter/test\")\n",
    "        torch.save(checkpoint, './model_parameter/test/ckpt_best_%s.pth' % (str(epoch)))"
   ]
  },
  {
   "cell_type": "code",
   "execution_count": null,
   "metadata": {},
   "outputs": [],
   "source": [
    "# train \n",
    "epochs = 1\n",
    "model, losses = train(model, criterion, optimizer,\\\n",
    "                       train_iter, num_epochs=epochs)"
   ]
  },
  {
   "cell_type": "code",
   "execution_count": null,
   "metadata": {},
   "outputs": [],
   "source": [
    "## freqs_end, num_v1, num_v2, num_v3, num_h1, num_h2, sampleNum, num_data\n",
    "#  10.        4.      8.      2.     20.      20.     5.         1000\n",
    "#saveModel(model, optimizer, epochs, losses, '../data/10_4_8_2_20_20_5_1000.pt')\n",
    "#torch.save(model, '../parameter/disp.pt')\n",
    "model = torch.load('../parameter/10_4_8_2_20_20_5_1000.pth')\n",
    "# model, optimizer, epochs, losses = loadModel(model, optimizer, '../data/10_4_8_2_20_20_5_1000.pt')"
   ]
  },
  {
   "cell_type": "code",
   "execution_count": null,
   "metadata": {},
   "outputs": [],
   "source": [
    "import matplotlib.pyplot as plt\n",
    "import numpy as np\n",
    "\n",
    "#X = X_test[:30]; y = y_test[:30]\n",
    "X, y = next(iter(train_iter))\n",
    "\n",
    "y_pred = model(X)\n",
    "y_pred = y_pred.detach().numpy()\n",
    "\n",
    "depth_end = 200.\n",
    "freqs_end = 10.\n",
    "\n",
    "X, y = next(iter(test_iter))\n",
    "yyy = model(X)\n",
    "j = 11\n",
    "\n",
    "true_v = 100*y[j][0][0].detach().numpy()\n",
    "syn_v = 100*yyy[j][0][0].detach().numpy()\n",
    "depth = torch.linspace(0, depth_end, len(true_v))\n",
    "freq = torch.linspace(0, freqs_end, len(true_v))"
   ]
  },
  {
   "cell_type": "code",
   "execution_count": null,
   "metadata": {},
   "outputs": [],
   "source": [
    "i = np.random.randint(0, 30)\n",
    "t = np.logspace(-1.0, 1.0, 1000)\n",
    "\n",
    "# 定义移动平均滤波器的窗口大小\n",
    "window_size = 20\n",
    "\n",
    "# 构建移动平均滤波器的系数\n",
    "b = np.ones(window_size) / window_size\n",
    "\n",
    "# 对信号进行滤波\n",
    "yy = np.convolve(y_pred[i][0][0], b, mode='valid')\n",
    "\n",
    "with plt.style.context('ggplot'):\n",
    "\n",
    "    # 创建图形和坐标轴对象\n",
    "    fig, (ax1, ax2) = plt.subplots(figsize=(10, 6), nrows=1, ncols=2)\n",
    "\n",
    "    ax1.plot(np.linspace(0, 10, 1000),X[i, 0, 0, :], label='true', color='tab:red')\n",
    "    ax1.set_xlabel('Frequency [Hz]')\n",
    "    #ax1.set_ylabel('Velocity [km/s]')\n",
    "    ax1.set_title('HVSR Curve')\n",
    "    #ax1.set_xscale('log')\n",
    "\n",
    "    ax2.plot(true_v, depth, label='true', color='orange')\n",
    "    ax2.plot(syn_v, depth, label= 'syn', color='tab:green')\n",
    "\n",
    "\n",
    "    # 设置 y 轴刻度方向\n",
    "    ax2.yaxis.tick_left()\n",
    "    #ax.yaxis.set_label_position('top')\n",
    "    ax2.set_ylabel('depth [m]')\n",
    "    ax2.set_xlabel('true velocity [m/s]')\n",
    "    # 设置坐标轴位置\n",
    "    ax2.xaxis.set_ticks_position('top')\n",
    "    ax2.xaxis.set_label_position('top')\n",
    "\n",
    "    ax2.legend(loc='lower left')\n",
    "    ax2.set_title('Velocity Model')\n",
    "\n",
    "    # 反转y轴\n",
    "    ax2.invert_yaxis()"
   ]
  }
 ],
 "metadata": {
  "kernelspec": {
   "display_name": "base",
   "language": "python",
   "name": "python3"
  },
  "language_info": {
   "codemirror_mode": {
    "name": "ipython",
    "version": 3
   },
   "file_extension": ".py",
   "mimetype": "text/x-python",
   "name": "python",
   "nbconvert_exporter": "python",
   "pygments_lexer": "ipython3",
   "version": "3.8.12"
  },
  "orig_nbformat": 4
 },
 "nbformat": 4,
 "nbformat_minor": 2
}
